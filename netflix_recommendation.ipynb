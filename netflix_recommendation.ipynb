{
  "cells": [
    {
      "cell_type": "markdown",
      "metadata": {
        "id": "mF3IUNx-mf_R"
      },
      "source": [
        "# Netflix Analytics - Recomendação de filmes por meio de correlações\n",
        "\n",
        "Este projeto visa construir um mecanismo de recomendação de filmes dentro da Netflix. O conjunto de dados que usei aqui vem diretamente da Netflix. Consiste em 4 arquivos de dados de texto, cada arquivo contém mais de 20 milhões de linhas, ou seja, filmes em 4K e 400 mil clientes. Ao todo, mais de 17 mil filmes e mais de 500 mil clientes!\n",
        "\n",
        "\n",
        "Um dos maiores desafios é carregar todos esses dados no Kernel para análise. Muitas vezes, encontrei o Kernel sem memória e tentei várias maneiras diferentes de fazer isso com mais eficiência."
      ]
    },
    {
      "cell_type": "markdown",
      "metadata": {
        "id": "DSwuN06CuU5L"
      },
      "source": [
        "## Instalação e importação de bibliotecas"
      ]
    },
    {
      "cell_type": "code",
      "execution_count": 5,
      "metadata": {
        "colab": {
          "base_uri": "https://localhost:8080/"
        },
        "id": "CaB44KWnujTH",
        "outputId": "1ebc7805-a654-4298-eab2-802270f41f5a"
      },
      "outputs": [
        {
          "name": "stdout",
          "output_type": "stream",
          "text": [
            "Requirement already satisfied: scikit-surprise in /Users/carlospo/opt/anaconda3/envs/chatbot-tensorflow/lib/python3.6/site-packages (1.1.1)\n",
            "Requirement already satisfied: pandas in /Users/carlospo/opt/anaconda3/envs/chatbot-tensorflow/lib/python3.6/site-packages (1.1.5)\n",
            "Collecting seaborn\n",
            "  Using cached seaborn-0.11.2-py3-none-any.whl (292 kB)\n",
            "Collecting matplotlib\n",
            "  Downloading matplotlib-3.3.4-cp36-cp36m-macosx_10_9_x86_64.whl (8.5 MB)\n",
            "\u001b[K     |████████████████████████████████| 8.5 MB 5.0 MB/s eta 0:00:01\n",
            "\u001b[?25hRequirement already satisfied: scipy>=1.0.0 in /Users/carlospo/opt/anaconda3/envs/chatbot-tensorflow/lib/python3.6/site-packages (from scikit-surprise) (1.5.4)\n",
            "Requirement already satisfied: six>=1.10.0 in /Users/carlospo/opt/anaconda3/envs/chatbot-tensorflow/lib/python3.6/site-packages (from scikit-surprise) (1.16.0)\n",
            "Requirement already satisfied: numpy>=1.11.2 in /Users/carlospo/opt/anaconda3/envs/chatbot-tensorflow/lib/python3.6/site-packages (from scikit-surprise) (1.19.5)\n",
            "Requirement already satisfied: joblib>=0.11 in /Users/carlospo/opt/anaconda3/envs/chatbot-tensorflow/lib/python3.6/site-packages (from scikit-surprise) (1.1.1)\n",
            "Requirement already satisfied: python-dateutil>=2.7.3 in /Users/carlospo/opt/anaconda3/envs/chatbot-tensorflow/lib/python3.6/site-packages (from pandas) (2.8.2)\n",
            "Requirement already satisfied: pytz>=2017.2 in /Users/carlospo/opt/anaconda3/envs/chatbot-tensorflow/lib/python3.6/site-packages (from pandas) (2023.3)\n",
            "Collecting pillow>=6.2.0\n",
            "  Downloading Pillow-8.4.0-cp36-cp36m-macosx_10_10_x86_64.whl (3.0 MB)\n",
            "\u001b[K     |████████████████████████████████| 3.0 MB 19.7 MB/s eta 0:00:01\n",
            "\u001b[?25hCollecting kiwisolver>=1.0.1\n",
            "  Downloading kiwisolver-1.3.1-cp36-cp36m-macosx_10_9_x86_64.whl (61 kB)\n",
            "\u001b[K     |████████████████████████████████| 61 kB 14.9 MB/s eta 0:00:01\n",
            "\u001b[?25hRequirement already satisfied: pyparsing!=2.0.4,!=2.1.2,!=2.1.6,>=2.0.3 in /Users/carlospo/opt/anaconda3/envs/chatbot-tensorflow/lib/python3.6/site-packages (from matplotlib) (3.0.9)\n",
            "Collecting cycler>=0.10\n",
            "  Using cached cycler-0.11.0-py3-none-any.whl (6.4 kB)\n",
            "Installing collected packages: pillow, kiwisolver, cycler, matplotlib, seaborn\n",
            "Successfully installed cycler-0.11.0 kiwisolver-1.3.1 matplotlib-3.3.4 pillow-8.4.0 seaborn-0.11.2\n"
          ]
        }
      ],
      "source": [
        "!pip install scikit-surprise pandas seaborn matplotlib"
      ]
    },
    {
      "cell_type": "code",
      "execution_count": 6,
      "metadata": {
        "id": "tROH6f0kuWrI"
      },
      "outputs": [],
      "source": [
        "import re\n",
        "import math\n",
        "import numpy as np\n",
        "import pandas as pd\n",
        "import seaborn as sns\n",
        "import matplotlib.pyplot as plt\n",
        "\n",
        "from scipy.sparse import csr_matrix\n",
        "from surprise import Reader, Dataset, SVD\n",
        "from surprise.model_selection import cross_validate\n",
        "\n",
        "sns.set_style(\"darkgrid\")"
      ]
    },
    {
      "cell_type": "markdown",
      "metadata": {
        "id": "FjcQIainm0GU"
      },
      "source": [
        "## Carregamento dos dados\n",
        "Cada arquivo de dados (existem 4 deles) contém as colunas abaixo:\n",
        "\n",
        "ID do filme (como primeira linha de cada novo registro/arquivo de filme)\n",
        "Identificação do Cliente\n",
        "Classificação (1 a 5)\n",
        "Data em que deram as classificações\n",
        "Há outro arquivo que contém o mapeamento do ID do filme para o plano de fundo do filme, como nome, ano de lançamento, etc."
      ]
    },
    {
      "cell_type": "code",
      "execution_count": 7,
      "metadata": {
        "colab": {
          "base_uri": "https://localhost:8080/",
          "height": 204
        },
        "id": "BVAkrkmzuIAH",
        "outputId": "ca780597-61cc-49ca-9d64-08b0fc9983a8"
      },
      "outputs": [
        {
          "data": {
            "text/html": [
              "<div>\n",
              "<style scoped>\n",
              "    .dataframe tbody tr th:only-of-type {\n",
              "        vertical-align: middle;\n",
              "    }\n",
              "\n",
              "    .dataframe tbody tr th {\n",
              "        vertical-align: top;\n",
              "    }\n",
              "\n",
              "    .dataframe thead th {\n",
              "        text-align: right;\n",
              "    }\n",
              "</style>\n",
              "<table border=\"1\" class=\"dataframe\">\n",
              "  <thead>\n",
              "    <tr style=\"text-align: right;\">\n",
              "      <th></th>\n",
              "      <th>Cust_Id</th>\n",
              "      <th>Rating</th>\n",
              "    </tr>\n",
              "  </thead>\n",
              "  <tbody>\n",
              "    <tr>\n",
              "      <th>0</th>\n",
              "      <td>1:</td>\n",
              "      <td>NaN</td>\n",
              "    </tr>\n",
              "    <tr>\n",
              "      <th>1</th>\n",
              "      <td>1488844</td>\n",
              "      <td>3.0</td>\n",
              "    </tr>\n",
              "    <tr>\n",
              "      <th>2</th>\n",
              "      <td>822109</td>\n",
              "      <td>5.0</td>\n",
              "    </tr>\n",
              "    <tr>\n",
              "      <th>3</th>\n",
              "      <td>885013</td>\n",
              "      <td>4.0</td>\n",
              "    </tr>\n",
              "    <tr>\n",
              "      <th>4</th>\n",
              "      <td>30878</td>\n",
              "      <td>4.0</td>\n",
              "    </tr>\n",
              "  </tbody>\n",
              "</table>\n",
              "</div>"
            ],
            "text/plain": [
              "   Cust_Id  Rating\n",
              "0       1:     NaN\n",
              "1  1488844     3.0\n",
              "2   822109     5.0\n",
              "3   885013     4.0\n",
              "4    30878     4.0"
            ]
          },
          "execution_count": 7,
          "metadata": {},
          "output_type": "execute_result"
        }
      ],
      "source": [
        "df = pd.read_csv(\n",
        "  'data/combined_data_1.txt', \n",
        "  header=None, \n",
        "  names=['Cust_Id', 'Rating'], \n",
        "  usecols = [0, 1]\n",
        ")\n",
        "\n",
        "df.head()"
      ]
    },
    {
      "cell_type": "code",
      "execution_count": 8,
      "metadata": {
        "id": "1IJ-McABv7wI"
      },
      "outputs": [],
      "source": [
        "df['Rating'] = df['Rating'].astype(float)"
      ]
    },
    {
      "cell_type": "code",
      "execution_count": 10,
      "metadata": {},
      "outputs": [
        {
          "data": {
            "text/plain": [
              "(24058263, 2)"
            ]
          },
          "execution_count": 10,
          "metadata": {},
          "output_type": "execute_result"
        }
      ],
      "source": [
        "df.shape"
      ]
    },
    {
      "cell_type": "code",
      "execution_count": 11,
      "metadata": {
        "colab": {
          "base_uri": "https://localhost:8080/"
        },
        "id": "5RVRwEdjwAVl",
        "outputId": "a9b7ef6e-6f3f-4d5b-8595-45ae3ad35a37"
      },
      "outputs": [
        {
          "data": {
            "text/html": [
              "<div>\n",
              "<style scoped>\n",
              "    .dataframe tbody tr th:only-of-type {\n",
              "        vertical-align: middle;\n",
              "    }\n",
              "\n",
              "    .dataframe tbody tr th {\n",
              "        vertical-align: top;\n",
              "    }\n",
              "\n",
              "    .dataframe thead th {\n",
              "        text-align: right;\n",
              "    }\n",
              "</style>\n",
              "<table border=\"1\" class=\"dataframe\">\n",
              "  <thead>\n",
              "    <tr style=\"text-align: right;\">\n",
              "      <th></th>\n",
              "      <th>Cust_Id</th>\n",
              "      <th>Rating</th>\n",
              "    </tr>\n",
              "  </thead>\n",
              "  <tbody>\n",
              "    <tr>\n",
              "      <th>0</th>\n",
              "      <td>1:</td>\n",
              "      <td>NaN</td>\n",
              "    </tr>\n",
              "    <tr>\n",
              "      <th>5000000</th>\n",
              "      <td>2560324</td>\n",
              "      <td>4.0</td>\n",
              "    </tr>\n",
              "    <tr>\n",
              "      <th>10000000</th>\n",
              "      <td>2271935</td>\n",
              "      <td>2.0</td>\n",
              "    </tr>\n",
              "    <tr>\n",
              "      <th>15000000</th>\n",
              "      <td>1921803</td>\n",
              "      <td>2.0</td>\n",
              "    </tr>\n",
              "    <tr>\n",
              "      <th>20000000</th>\n",
              "      <td>1933327</td>\n",
              "      <td>3.0</td>\n",
              "    </tr>\n",
              "  </tbody>\n",
              "</table>\n",
              "</div>"
            ],
            "text/plain": [
              "          Cust_Id  Rating\n",
              "0              1:     NaN\n",
              "5000000   2560324     4.0\n",
              "10000000  2271935     2.0\n",
              "15000000  1921803     2.0\n",
              "20000000  1933327     3.0"
            ]
          },
          "execution_count": 11,
          "metadata": {},
          "output_type": "execute_result"
        }
      ],
      "source": [
        "df.iloc[::5000000, :]"
      ]
    },
    {
      "cell_type": "markdown",
      "metadata": {
        "id": "biJiH7ZFwHrt"
      },
      "source": [
        "## Visualização dos dados"
      ]
    },
    {
      "cell_type": "code",
      "execution_count": 12,
      "metadata": {
        "colab": {
          "base_uri": "https://localhost:8080/",
          "height": 297
        },
        "id": "x2Q7IyoPvOrI",
        "outputId": "c379a030-4778-4b3d-e17e-7d21b6ff1cbd"
      },
      "outputs": [
        {
          "data": {
            "text/html": [
              "<div>\n",
              "<style scoped>\n",
              "    .dataframe tbody tr th:only-of-type {\n",
              "        vertical-align: middle;\n",
              "    }\n",
              "\n",
              "    .dataframe tbody tr th {\n",
              "        vertical-align: top;\n",
              "    }\n",
              "\n",
              "    .dataframe thead th {\n",
              "        text-align: right;\n",
              "    }\n",
              "</style>\n",
              "<table border=\"1\" class=\"dataframe\">\n",
              "  <thead>\n",
              "    <tr style=\"text-align: right;\">\n",
              "      <th></th>\n",
              "      <th>Rating</th>\n",
              "    </tr>\n",
              "  </thead>\n",
              "  <tbody>\n",
              "    <tr>\n",
              "      <th>count</th>\n",
              "      <td>2.405376e+07</td>\n",
              "    </tr>\n",
              "    <tr>\n",
              "      <th>mean</th>\n",
              "      <td>3.599634e+00</td>\n",
              "    </tr>\n",
              "    <tr>\n",
              "      <th>std</th>\n",
              "      <td>1.086118e+00</td>\n",
              "    </tr>\n",
              "    <tr>\n",
              "      <th>min</th>\n",
              "      <td>1.000000e+00</td>\n",
              "    </tr>\n",
              "    <tr>\n",
              "      <th>25%</th>\n",
              "      <td>3.000000e+00</td>\n",
              "    </tr>\n",
              "    <tr>\n",
              "      <th>50%</th>\n",
              "      <td>4.000000e+00</td>\n",
              "    </tr>\n",
              "    <tr>\n",
              "      <th>75%</th>\n",
              "      <td>4.000000e+00</td>\n",
              "    </tr>\n",
              "    <tr>\n",
              "      <th>max</th>\n",
              "      <td>5.000000e+00</td>\n",
              "    </tr>\n",
              "  </tbody>\n",
              "</table>\n",
              "</div>"
            ],
            "text/plain": [
              "             Rating\n",
              "count  2.405376e+07\n",
              "mean   3.599634e+00\n",
              "std    1.086118e+00\n",
              "min    1.000000e+00\n",
              "25%    3.000000e+00\n",
              "50%    4.000000e+00\n",
              "75%    4.000000e+00\n",
              "max    5.000000e+00"
            ]
          },
          "execution_count": 12,
          "metadata": {},
          "output_type": "execute_result"
        }
      ],
      "source": [
        "df.describe()"
      ]
    },
    {
      "cell_type": "code",
      "execution_count": 13,
      "metadata": {
        "colab": {
          "base_uri": "https://localhost:8080/"
        },
        "id": "6IA28pMFvViH",
        "outputId": "8565c6f8-e47f-4bb3-a50d-f8f5524d09b6"
      },
      "outputs": [
        {
          "name": "stdout",
          "output_type": "stream",
          "text": [
            "<class 'pandas.core.frame.DataFrame'>\n",
            "RangeIndex: 24058263 entries, 0 to 24058262\n",
            "Data columns (total 2 columns):\n",
            " #   Column   Dtype  \n",
            "---  ------   -----  \n",
            " 0   Cust_Id  object \n",
            " 1   Rating   float64\n",
            "dtypes: float64(1), object(1)\n",
            "memory usage: 367.1+ MB\n"
          ]
        }
      ],
      "source": [
        "df.info()"
      ]
    },
    {
      "cell_type": "code",
      "execution_count": 14,
      "metadata": {
        "colab": {
          "base_uri": "https://localhost:8080/"
        },
        "id": "ftLVKa4evjpa",
        "outputId": "47a89679-97d1-4ad3-acbe-3c62aa732a6d"
      },
      "outputs": [
        {
          "data": {
            "text/plain": [
              "Cust_Id       0\n",
              "Rating     4499\n",
              "dtype: int64"
            ]
          },
          "execution_count": 14,
          "metadata": {},
          "output_type": "execute_result"
        }
      ],
      "source": [
        "df.isnull().sum(axis = 0)"
      ]
    },
    {
      "cell_type": "code",
      "execution_count": 15,
      "metadata": {
        "colab": {
          "base_uri": "https://localhost:8080/",
          "height": 404
        },
        "id": "UU7japBLvkmG",
        "outputId": "99fe9337-3d60-4df4-d70a-ebae4b7d80c7"
      },
      "outputs": [
        {
          "data": {
            "text/plain": [
              "array([[<AxesSubplot:title={'center':'Rating'}>]], dtype=object)"
            ]
          },
          "execution_count": 15,
          "metadata": {},
          "output_type": "execute_result"
        },
        {
          "data": {
            "image/png": "[encoded data removed]",
            "text/plain": [
              "<Figure size 288x288 with 1 Axes>"
            ]
          },
          "metadata": {},
          "output_type": "display_data"
        }
      ],
      "source": [
        "df.hist(figsize=(4, 4), bins=50, xlabelsize=8, ylabelsize=8)"
      ]
    },
    {
      "cell_type": "code",
      "execution_count": 16,
      "metadata": {
        "colab": {
          "base_uri": "https://localhost:8080/",
          "height": 837
        },
        "id": "veI3FhiZwQy3",
        "outputId": "e570fa86-248d-4a9c-a2da-0fcdd6f3c933"
      },
      "outputs": [
        {
          "data": {
            "image/png": "[encoded data removed]",
            "text/plain": [
              "<Figure size 1080x720 with 1 Axes>"
            ]
          },
          "metadata": {},
          "output_type": "display_data"
        }
      ],
      "source": [
        "p = df.groupby('Rating')['Rating'].agg(['count'])\n",
        "\n",
        "# get movie count\n",
        "movie_count = df.isnull().sum()[1]\n",
        "\n",
        "# get customer count\n",
        "cust_count = df['Cust_Id'].nunique() - movie_count\n",
        "\n",
        "# get rating count\n",
        "rating_count = df['Cust_Id'].count() - movie_count\n",
        "\n",
        "ax = p.plot(kind = 'barh', legend = False, figsize = (15,10))\n",
        "plt.title('Total pool: {:,} Movies, {:,} customers, {:,} ratings given'.format(movie_count, cust_count, rating_count), fontsize=20)\n",
        "plt.axis('off')\n",
        "\n",
        "for i in range(1,6):\n",
        "    ax.text(p.iloc[i-1][0]/4, i-1, 'Rating {}: {:.0f}%'.format(i, p.iloc[i-1][0]*100 / p.sum()[0]), color = 'white', weight = 'bold')"
      ]
    },
    {
      "cell_type": "markdown",
      "metadata": {
        "id": "BcP8UixewYl9"
      },
      "source": [
        "## Limpeza dos dados\n",
        "ID do filme é realmente uma importação bagunçada, fazer um loop pelo dataframe para adicionar a coluna Movie ID FAZER com que o Kernel fique sem memória, pois é muito ineficiente. Eu alcanço minha tarefa criando primeiro uma matriz numpy com comprimento correto e, em seguida, adiciono toda a matriz como coluna no dataframe principal."
      ]
    },
    {
      "cell_type": "code",
      "execution_count": 17,
      "metadata": {
        "id": "6Im866ikwXO2"
      },
      "outputs": [],
      "source": [
        "df_nan = pd.DataFrame(pd.isnull(df.Rating))\n",
        "df_nan = df_nan[df_nan['Rating'] == True]\n",
        "df_nan = df_nan.reset_index()"
      ]
    },
    {
      "cell_type": "code",
      "execution_count": 18,
      "metadata": {
        "id": "Z16i9rlRwnCi"
      },
      "outputs": [],
      "source": [
        "movie_np = []\n",
        "movie_id = 1\n",
        "\n",
        "for i,j in zip(df_nan['index'][1:],df_nan['index'][:-1]):\n",
        "    # numpy approach\n",
        "    temp = np.full((1,i-j-1), movie_id)\n",
        "    movie_np = np.append(movie_np, temp)\n",
        "    movie_id += 1"
      ]
    },
    {
      "cell_type": "code",
      "execution_count": 19,
      "metadata": {
        "colab": {
          "base_uri": "https://localhost:8080/"
        },
        "id": "7nXRql3Cwpf-",
        "outputId": "69dd8293-bc50-4fe8-b843-3d39a59e81d3"
      },
      "outputs": [
        {
          "data": {
            "text/plain": [
              "('Movie numpy: [1.000e+00 1.000e+00 1.000e+00 ... 4.499e+03 4.499e+03 4.499e+03]',\n",
              " 'Length: 24053764')"
            ]
          },
          "execution_count": 19,
          "metadata": {},
          "output_type": "execute_result"
        }
      ],
      "source": [
        "# Account for last record and corresponding length\n",
        "# numpy approach\n",
        "last_record = np.full((1,len(df) - df_nan.iloc[-1, 0] - 1),movie_id)\n",
        "movie_np = np.append(movie_np, last_record)\n",
        "'Movie numpy: {}'.format(movie_np), 'Length: {}'.format(len(movie_np))"
      ]
    },
    {
      "cell_type": "code",
      "execution_count": 20,
      "metadata": {
        "colab": {
          "base_uri": "https://localhost:8080/"
        },
        "id": "MGqCsjSJwtha",
        "outputId": "c38ca0fb-c730-46ca-9ada-d8448eca241b"
      },
      "outputs": [
        {
          "data": {
            "text/html": [
              "<div>\n",
              "<style scoped>\n",
              "    .dataframe tbody tr th:only-of-type {\n",
              "        vertical-align: middle;\n",
              "    }\n",
              "\n",
              "    .dataframe tbody tr th {\n",
              "        vertical-align: top;\n",
              "    }\n",
              "\n",
              "    .dataframe thead th {\n",
              "        text-align: right;\n",
              "    }\n",
              "</style>\n",
              "<table border=\"1\" class=\"dataframe\">\n",
              "  <thead>\n",
              "    <tr style=\"text-align: right;\">\n",
              "      <th></th>\n",
              "      <th>Cust_Id</th>\n",
              "      <th>Rating</th>\n",
              "      <th>Movie_Id</th>\n",
              "    </tr>\n",
              "  </thead>\n",
              "  <tbody>\n",
              "    <tr>\n",
              "      <th>1</th>\n",
              "      <td>1488844</td>\n",
              "      <td>3.0</td>\n",
              "      <td>1</td>\n",
              "    </tr>\n",
              "    <tr>\n",
              "      <th>5000996</th>\n",
              "      <td>501954</td>\n",
              "      <td>2.0</td>\n",
              "      <td>996</td>\n",
              "    </tr>\n",
              "    <tr>\n",
              "      <th>10001962</th>\n",
              "      <td>404654</td>\n",
              "      <td>5.0</td>\n",
              "      <td>1962</td>\n",
              "    </tr>\n",
              "    <tr>\n",
              "      <th>15002876</th>\n",
              "      <td>886608</td>\n",
              "      <td>2.0</td>\n",
              "      <td>2876</td>\n",
              "    </tr>\n",
              "    <tr>\n",
              "      <th>20003825</th>\n",
              "      <td>1193835</td>\n",
              "      <td>2.0</td>\n",
              "      <td>3825</td>\n",
              "    </tr>\n",
              "  </tbody>\n",
              "</table>\n",
              "</div>"
            ],
            "text/plain": [
              "          Cust_Id  Rating  Movie_Id\n",
              "1         1488844     3.0         1\n",
              "5000996    501954     2.0       996\n",
              "10001962   404654     5.0      1962\n",
              "15002876   886608     2.0      2876\n",
              "20003825  1193835     2.0      3825"
            ]
          },
          "execution_count": 20,
          "metadata": {},
          "output_type": "execute_result"
        }
      ],
      "source": [
        "# remove those Movie ID rows\n",
        "df = df[pd.notnull(df['Rating'])]\n",
        "\n",
        "df['Movie_Id'] = movie_np.astype(int)\n",
        "df['Cust_Id'] = df['Cust_Id'].astype(int)\n",
        "df.iloc[::5000000, :]"
      ]
    },
    {
      "cell_type": "markdown",
      "metadata": {
        "id": "gycNwV-Hw2Ew"
      },
      "source": [
        "## Fatiamento de dados\n",
        "O conjunto de dados agora é enorme. Eu tentei muitas maneiras diferentes, mas não consigo fazer o Kernel funcionar como pretendido sem erro de memória. Portanto, tentei reduzir o volume de dados melhorando a qualidade dos dados abaixo:\n",
        "\n",
        "Remova o filme com muito menos comentários (eles são relativamente pouco populares)\n",
        "Remova o cliente que dá muito menos avaliações (eles são relativamente menos ativos)\n",
        "Ter um benchmark acima terá uma melhoria significativa na eficiência, uma vez que esses filmes impopulares e clientes não ativos ainda ocupam o mesmo volume que os filmes populares e clientes ativos na visão da matriz (NaN ainda ocupam espaço). Isso também deve ajudar a melhorar a significância estatística."
      ]
    },
    {
      "cell_type": "code",
      "execution_count": 21,
      "metadata": {
        "colab": {
          "base_uri": "https://localhost:8080/"
        },
        "id": "uhGq5YahxDs0",
        "outputId": "7af8d84d-5971-46a0-a59c-4f910304d9a0"
      },
      "outputs": [
        {
          "data": {
            "text/plain": [
              "1799.0"
            ]
          },
          "execution_count": 21,
          "metadata": {},
          "output_type": "execute_result"
        }
      ],
      "source": [
        "df_movie_summary = df.groupby('Movie_Id')['Rating'].agg(['count','mean'])\n",
        "df_movie_summary.index = df_movie_summary.index.map(int)\n",
        "movie_benchmark = round(df_movie_summary['count'].quantile(0.7),0)\n",
        "drop_movie_list = df_movie_summary[df_movie_summary['count'] < movie_benchmark].index\n",
        "movie_benchmark"
      ]
    },
    {
      "cell_type": "code",
      "execution_count": 23,
      "metadata": {
        "colab": {
          "base_uri": "https://localhost:8080/"
        },
        "id": "-L2JmjGlxGIq",
        "outputId": "48a3ed14-a898-4c99-84f0-92d754498537"
      },
      "outputs": [
        {
          "data": {
            "text/plain": [
              "52.0"
            ]
          },
          "execution_count": 23,
          "metadata": {},
          "output_type": "execute_result"
        }
      ],
      "source": [
        "df_cust_summary = df.groupby('Cust_Id')['Rating'].agg(['count','mean'])\n",
        "df_cust_summary.index = df_cust_summary.index.map(int)\n",
        "cust_benchmark = round(df_cust_summary['count'].quantile(0.7),0)\n",
        "drop_cust_list = df_cust_summary[df_cust_summary['count'] < cust_benchmark].index\n",
        "cust_benchmark"
      ]
    },
    {
      "cell_type": "code",
      "execution_count": 24,
      "metadata": {
        "colab": {
          "base_uri": "https://localhost:8080/"
        },
        "id": "AcpoY0RpxIKk",
        "outputId": "2c186abb-c9a5-4807-d58c-2ca1002d7193"
      },
      "outputs": [
        {
          "data": {
            "text/plain": [
              "(17337458, 3)"
            ]
          },
          "execution_count": 24,
          "metadata": {},
          "output_type": "execute_result"
        }
      ],
      "source": [
        "df = df[~df['Movie_Id'].isin(drop_movie_list)]\n",
        "df = df[~df['Cust_Id'].isin(drop_cust_list)]\n",
        "df.shape"
      ]
    },
    {
      "cell_type": "code",
      "execution_count": 25,
      "metadata": {
        "colab": {
          "base_uri": "https://localhost:8080/"
        },
        "id": "KnKRKzd9xK7I",
        "outputId": "9dcb8f74-fe93-4022-e4c4-2620af9a04ad"
      },
      "outputs": [
        {
          "data": {
            "text/plain": [
              "(143458, 1350)"
            ]
          },
          "execution_count": 25,
          "metadata": {},
          "output_type": "execute_result"
        }
      ],
      "source": [
        "df_p = pd.pivot_table(df,values='Rating',index='Cust_Id',columns='Movie_Id')\n",
        "df_p.shape"
      ]
    },
    {
      "attachments": {},
      "cell_type": "markdown",
      "metadata": {
        "id": "L8i1G8KtxdQU"
      },
      "source": [
        "## Mapeamento dos dados dos filmes"
      ]
    },
    {
      "cell_type": "code",
      "execution_count": 26,
      "metadata": {
        "id": "DlHRxMnpxPR6"
      },
      "outputs": [],
      "source": [
        "df_title = pd.read_csv(\n",
        "    'data/movie_titles.csv', \n",
        "    encoding=\"ISO-8859-1\", \n",
        "    header=None, \n",
        "    names=['Movie_Id', 'Year', 'Name'], \n",
        "    error_bad_lines=False\n",
        ")\n",
        "\n",
        "df_title.set_index('Movie_Id', inplace=True)\n"
      ]
    },
    {
      "cell_type": "code",
      "execution_count": 27,
      "metadata": {
        "colab": {
          "base_uri": "https://localhost:8080/"
        },
        "id": "eo3CnGO-xugc",
        "outputId": "e586aa1a-99af-48b6-d8d7-1adbb67ae5eb"
      },
      "outputs": [
        {
          "data": {
            "text/plain": [
              "(17770, 2)"
            ]
          },
          "execution_count": 27,
          "metadata": {},
          "output_type": "execute_result"
        }
      ],
      "source": [
        "df_title.shape"
      ]
    },
    {
      "cell_type": "code",
      "execution_count": 28,
      "metadata": {},
      "outputs": [
        {
          "data": {
            "text/html": [
              "<div>\n",
              "<style scoped>\n",
              "    .dataframe tbody tr th:only-of-type {\n",
              "        vertical-align: middle;\n",
              "    }\n",
              "\n",
              "    .dataframe tbody tr th {\n",
              "        vertical-align: top;\n",
              "    }\n",
              "\n",
              "    .dataframe thead th {\n",
              "        text-align: right;\n",
              "    }\n",
              "</style>\n",
              "<table border=\"1\" class=\"dataframe\">\n",
              "  <thead>\n",
              "    <tr style=\"text-align: right;\">\n",
              "      <th></th>\n",
              "      <th>Year</th>\n",
              "      <th>Name</th>\n",
              "    </tr>\n",
              "    <tr>\n",
              "      <th>Movie_Id</th>\n",
              "      <th></th>\n",
              "      <th></th>\n",
              "    </tr>\n",
              "  </thead>\n",
              "  <tbody>\n",
              "    <tr>\n",
              "      <th>1</th>\n",
              "      <td>2003.0</td>\n",
              "      <td>Dinosaur Planet</td>\n",
              "    </tr>\n",
              "    <tr>\n",
              "      <th>2</th>\n",
              "      <td>2004.0</td>\n",
              "      <td>Isle of Man TT 2004 Review</td>\n",
              "    </tr>\n",
              "    <tr>\n",
              "      <th>3</th>\n",
              "      <td>1997.0</td>\n",
              "      <td>Character</td>\n",
              "    </tr>\n",
              "    <tr>\n",
              "      <th>4</th>\n",
              "      <td>1994.0</td>\n",
              "      <td>Paula Abdul's Get Up &amp; Dance</td>\n",
              "    </tr>\n",
              "    <tr>\n",
              "      <th>5</th>\n",
              "      <td>2004.0</td>\n",
              "      <td>The Rise and Fall of ECW</td>\n",
              "    </tr>\n",
              "  </tbody>\n",
              "</table>\n",
              "</div>"
            ],
            "text/plain": [
              "            Year                          Name\n",
              "Movie_Id                                      \n",
              "1         2003.0               Dinosaur Planet\n",
              "2         2004.0    Isle of Man TT 2004 Review\n",
              "3         1997.0                     Character\n",
              "4         1994.0  Paula Abdul's Get Up & Dance\n",
              "5         2004.0      The Rise and Fall of ECW"
            ]
          },
          "execution_count": 28,
          "metadata": {},
          "output_type": "execute_result"
        }
      ],
      "source": [
        "df_title.head()"
      ]
    },
    {
      "cell_type": "markdown",
      "metadata": {
        "id": "Y8Ff7ZD5yLVI"
      },
      "source": [
        "## Recomendar com filtragem colaborativa\n",
        "Avalie o desempenho da filtragem colaborativa, com apenas as primeiras 100.000 linhas para um processo mais rápido:"
      ]
    },
    {
      "cell_type": "code",
      "execution_count": 30,
      "metadata": {
        "id": "MpBVL378yU1B"
      },
      "outputs": [
        {
          "data": {
            "text/plain": [
              "{'test_rmse': array([0.99336408, 0.99673354, 0.99353041, 0.99914633, 1.00544802]),\n",
              " 'test_mae': array([0.79862712, 0.80531424, 0.7991539 , 0.80758614, 0.80203383]),\n",
              " 'fit_time': (4.224030017852783,\n",
              "  4.227563858032227,\n",
              "  4.230341196060181,\n",
              "  4.237452030181885,\n",
              "  4.244607925415039),\n",
              " 'test_time': (0.3367013931274414,\n",
              "  0.08290886878967285,\n",
              "  0.07877111434936523,\n",
              "  0.08131980895996094,\n",
              "  0.0813150405883789)}"
            ]
          },
          "execution_count": 30,
          "metadata": {},
          "output_type": "execute_result"
        }
      ],
      "source": [
        "reader = Reader()\n",
        "data = Dataset.load_from_df(df[['Cust_Id', 'Movie_Id', 'Rating']][:100000], reader)\n",
        "svd = SVD()\n",
        "cross_validate(svd, data, measures=['RMSE', 'MAE'])"
      ]
    },
    {
      "cell_type": "markdown",
      "metadata": {
        "id": "YfKjxWr7yg5Z"
      },
      "source": [
        "### Abaixo está um exemplo do usuário 783514 mostrando o que o mesmo gostou no passado:"
      ]
    },
    {
      "cell_type": "code",
      "execution_count": 31,
      "metadata": {
        "id": "fVdZfex7ycDp"
      },
      "outputs": [
        {
          "data": {
            "text/plain": [
              "Movie_Id\n",
              "57                                            Richard III\n",
              "175                                        Reservoir Dogs\n",
              "311                                               Ed Wood\n",
              "329                                                 Dogma\n",
              "331                                           Chasing Amy\n",
              "395                                         Captain Blood\n",
              "788                                                Clerks\n",
              "798                                                  Jaws\n",
              "907                                       Animal Crackers\n",
              "985                                             The Mummy\n",
              "1552                                          Black Adder\n",
              "1905    Pirates of the Caribbean: The Curse of the Bla...\n",
              "2000                          Four Weddings and a Funeral\n",
              "2122                                 Being John Malkovich\n",
              "2342                                        Super Size Me\n",
              "2360                                  Singin' in the Rain\n",
              "2430                           Alien: Collector's Edition\n",
              "2443                             Like Water for Chocolate\n",
              "2452        Lord of the Rings: The Fellowship of the Ring\n",
              "2465                                   This Is Spinal Tap\n",
              "2554                        The Rocky Horror Picture Show\n",
              "2847                                    The Mark of Zorro\n",
              "2848                                          The Hustler\n",
              "2862                             The Silence of the Lambs\n",
              "3150                     Monty Python: The Life of Python\n",
              "3168                            Evil Dead 2: Dead by Dawn\n",
              "3198                                    The Addams Family\n",
              "3315                                   The Maltese Falcon\n",
              "3446                                        Spirited Away\n",
              "3489                                         Time Bandits\n",
              "3590                              Jason and the Argonauts\n",
              "3648            Who Framed Roger Rabbit?: Special Edition\n",
              "3798                                            The Sting\n",
              "3935                                     Yellow Submarine\n",
              "3949        Terminator 2: Extreme Edition: Bonus Material\n",
              "3962                            Finding Nemo (Widescreen)\n",
              "3984                                         On the Beach\n",
              "4080                                        A Mighty Wind\n",
              "4227                                       The Full Monty\n",
              "4253                             Kind Hearts and Coronets\n",
              "4306                                      The Sixth Sense\n",
              "4345                                Bowling for Columbine\n",
              "4356                                    Road to Perdition\n",
              "4392                                     Army of Darkness\n",
              "4454                                 To Have and Have Not\n",
              "Name: Name, dtype: object"
            ]
          },
          "execution_count": 31,
          "metadata": {},
          "output_type": "execute_result"
        }
      ],
      "source": [
        "df_785314 = df[(df['Cust_Id'] == 785314) & (df['Rating'] == 5)]\n",
        "df_785314 = df_785314.set_index('Movie_Id')\n",
        "df_785314 = df_785314.join(df_title)['Name']\n",
        "df_785314"
      ]
    },
    {
      "cell_type": "markdown",
      "metadata": {
        "id": "LOKmq60LywOb"
      },
      "source": [
        "### Agora vamos prever quais filmes o usuário 785314 gostaria de assistir:"
      ]
    },
    {
      "cell_type": "code",
      "execution_count": 32,
      "metadata": {
        "id": "AtQ-gtdUyrLs"
      },
      "outputs": [],
      "source": [
        "user_785314 = df_title.copy()\n",
        "user_785314 = user_785314.reset_index()\n",
        "user_785314 = user_785314[~user_785314['Movie_Id'].isin(drop_movie_list)]"
      ]
    },
    {
      "cell_type": "code",
      "execution_count": 35,
      "metadata": {
        "id": "LFXPpEQ7y6Nb"
      },
      "outputs": [],
      "source": [
        "# getting full dataset\n",
        "data = Dataset.load_from_df(df[['Cust_Id', 'Movie_Id', 'Rating']][:100000], reader)"
      ]
    },
    {
      "cell_type": "code",
      "execution_count": 36,
      "metadata": {
        "id": "WI2hnhwCy742"
      },
      "outputs": [
        {
          "data": {
            "text/plain": [
              "<surprise.prediction_algorithms.matrix_factorization.SVD at 0x7ff351421b70>"
            ]
          },
          "execution_count": 36,
          "metadata": {},
          "output_type": "execute_result"
        }
      ],
      "source": [
        "trainset = data.build_full_trainset()\n",
        "svd.fit(trainset)"
      ]
    },
    {
      "cell_type": "code",
      "execution_count": 37,
      "metadata": {
        "id": "0uowkF4oy9LW"
      },
      "outputs": [],
      "source": [
        "user_785314['Estimate_Score'] = user_785314['Movie_Id'].apply(lambda x: svd.predict(785314, x).est)"
      ]
    },
    {
      "cell_type": "code",
      "execution_count": 38,
      "metadata": {
        "id": "OOuwzj2ay-vp"
      },
      "outputs": [],
      "source": [
        "user_785314 = user_785314.drop('Movie_Id', axis = 1)"
      ]
    },
    {
      "cell_type": "code",
      "execution_count": 40,
      "metadata": {
        "id": "AWkJGPoHzAf4"
      },
      "outputs": [
        {
          "data": {
            "text/html": [
              "<div>\n",
              "<style scoped>\n",
              "    .dataframe tbody tr th:only-of-type {\n",
              "        vertical-align: middle;\n",
              "    }\n",
              "\n",
              "    .dataframe tbody tr th {\n",
              "        vertical-align: top;\n",
              "    }\n",
              "\n",
              "    .dataframe thead th {\n",
              "        text-align: right;\n",
              "    }\n",
              "</style>\n",
              "<table border=\"1\" class=\"dataframe\">\n",
              "  <thead>\n",
              "    <tr style=\"text-align: right;\">\n",
              "      <th></th>\n",
              "      <th>Year</th>\n",
              "      <th>Name</th>\n",
              "      <th>Estimate_Score</th>\n",
              "    </tr>\n",
              "  </thead>\n",
              "  <tbody>\n",
              "    <tr>\n",
              "      <th>2</th>\n",
              "      <td>1997.0</td>\n",
              "      <td>Character</td>\n",
              "      <td>3.435237</td>\n",
              "    </tr>\n",
              "    <tr>\n",
              "      <th>27</th>\n",
              "      <td>2002.0</td>\n",
              "      <td>Lilo and Stitch</td>\n",
              "      <td>3.133010</td>\n",
              "    </tr>\n",
              "    <tr>\n",
              "      <th>55</th>\n",
              "      <td>2004.0</td>\n",
              "      <td>Carandiru</td>\n",
              "      <td>3.037528</td>\n",
              "    </tr>\n",
              "    <tr>\n",
              "      <th>126</th>\n",
              "      <td>1987.0</td>\n",
              "      <td>Fatal Beauty</td>\n",
              "      <td>3.037528</td>\n",
              "    </tr>\n",
              "    <tr>\n",
              "      <th>121</th>\n",
              "      <td>2002.0</td>\n",
              "      <td>Cube 2: Hypercube</td>\n",
              "      <td>3.037528</td>\n",
              "    </tr>\n",
              "  </tbody>\n",
              "</table>\n",
              "</div>"
            ],
            "text/plain": [
              "       Year               Name  Estimate_Score\n",
              "2    1997.0          Character        3.435237\n",
              "27   2002.0    Lilo and Stitch        3.133010\n",
              "55   2004.0          Carandiru        3.037528\n",
              "126  1987.0       Fatal Beauty        3.037528\n",
              "121  2002.0  Cube 2: Hypercube        3.037528"
            ]
          },
          "execution_count": 40,
          "metadata": {},
          "output_type": "execute_result"
        }
      ],
      "source": [
        "user_785314 = user_785314.sort_values('Estimate_Score', ascending=False)\n",
        "user_785314.head()"
      ]
    },
    {
      "cell_type": "markdown",
      "metadata": {
        "id": "3LaZaymJzH19"
      },
      "source": [
        "## Recomendar com o coeficiente de correlação de Pearson\n",
        "A maneira como funciona é que usamos a correlação de Pearson para medir a correlação linear entre as pontuações de revisão de todos os pares de filmes e, em seguida, fornecemos os 10 principais filmes com correlações mais altas:"
      ]
    },
    {
      "cell_type": "code",
      "execution_count": 41,
      "metadata": {
        "id": "mTw52F6VzGQT"
      },
      "outputs": [],
      "source": [
        "def recommend(movie_title, min_count):\n",
        "    print(\"For movie ({})\".format(movie_title))\n",
        "    print(\"- Top 10 movies recommended based on Pearsons'R correlation - \")\n",
        "    i = int(df_title.index[df_title['Name'] == movie_title][0])\n",
        "    target = df_p[i]\n",
        "    similar_to_target = df_p.corrwith(target)\n",
        "    corr_target = pd.DataFrame(similar_to_target, columns = ['PearsonR'])\n",
        "    corr_target.dropna(inplace = True)\n",
        "    corr_target = corr_target.sort_values('PearsonR', ascending = False)\n",
        "    corr_target.index = corr_target.index.map(int)\n",
        "    corr_target = corr_target.join(df_title).join(df_movie_summary)[['PearsonR', 'Name', 'count', 'mean']]\n",
        "    print(corr_target[corr_target['count']>min_count][:10].to_string(index=False))"
      ]
    },
    {
      "cell_type": "code",
      "execution_count": 42,
      "metadata": {
        "id": "2VWroqPOzq5L"
      },
      "outputs": [
        {
          "name": "stdout",
          "output_type": "stream",
          "text": [
            "For movie (What the #$*! Do We Know!?)\n",
            "- Top 10 movies recommended based on Pearsons'R correlation - \n",
            " PearsonR                                      Name  count      mean\n",
            " 1.000000                What the #$*! Do We Know!?  14910  3.189805\n",
            " 0.505500                                 Inu-Yasha   1883  4.554434\n",
            " 0.452807  Captain Pantoja and the Special Services   1801  3.417546\n",
            " 0.442354                 Without a Trace: Season 1   2124  3.980226\n",
            " 0.384179                      Yu-Gi-Oh!: The Movie   3173  3.331547\n",
            " 0.383959                                  Scorched   2430  2.894239\n",
            " 0.381173   All Creatures Great and Small: Series 1   2327  3.938118\n",
            " 0.381112           As Time Goes By: Series 1 and 2   2249  4.164073\n",
            " 0.373018                          Cowboys & Angels   2368  3.589527\n",
            " 0.371981                            Biggie & Tupac   1866  3.019293\n"
          ]
        }
      ],
      "source": [
        "recommend(\"What the #$*! Do We Know!?\", 0)"
      ]
    },
    {
      "cell_type": "code",
      "execution_count": 43,
      "metadata": {
        "id": "ZOkXGN9VztJ_"
      },
      "outputs": [
        {
          "name": "stdout",
          "output_type": "stream",
          "text": [
            "For movie (X2: X-Men United)\n",
            "- Top 10 movies recommended based on Pearsons'R correlation - \n",
            " PearsonR                                                   Name  count      mean\n",
            " 1.000000                                       X2: X-Men United  98720  3.932202\n",
            " 0.384550                               Batman Beyond: The Movie   2614  3.726855\n",
            " 0.375967                                         Justice League   3591  3.710944\n",
            " 0.361393                       Justice League: Justice on Trial   2961  3.718001\n",
            " 0.338025                     Batman Beyond: Return of the Joker   3704  3.604752\n",
            " 0.335256                                          Batman Begins  54922  4.236699\n",
            " 0.328229                           Batman: Mask of the Phantasm   2823  3.767977\n",
            " 0.327040  Batman: The Animated Series: Tales of the Dark Knight   2432  3.583059\n",
            " 0.316666                        Dragon Ball Z: Super Android 13   2426  3.428689\n",
            " 0.316166                               Mortal Kombat: The Movie   7633  3.165466\n"
          ]
        }
      ],
      "source": [
        "recommend(\"X2: X-Men United\", 0)"
      ]
    }
  ],
  "metadata": {
    "colab": {
      "provenance": []
    },
    "kernelspec": {
      "display_name": "Python 3",
      "name": "python3"
    },
    "language_info": {
      "codemirror_mode": {
        "name": "ipython",
        "version": 3
      },
      "file_extension": ".py",
      "mimetype": "text/x-python",
      "name": "python",
      "nbconvert_exporter": "python",
      "pygments_lexer": "ipython3",
      "version": "3.6.15"
    }
  },
  "nbformat": 4,
  "nbformat_minor": 0
}
